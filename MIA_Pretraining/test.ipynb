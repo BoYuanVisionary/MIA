{
 "cells": [
  {
   "cell_type": "code",
   "execution_count": 1,
   "metadata": {},
   "outputs": [
    {
     "name": "stderr",
     "output_type": "stream",
     "text": [
      "/home/byuan48/anaconda3/envs/MIA/lib/python3.9/site-packages/tqdm/auto.py:21: TqdmWarning: IProgress not found. Please update jupyter and ipywidgets. See https://ipywidgets.readthedocs.io/en/stable/user_install.html\n",
      "  from .autonotebook import tqdm as notebook_tqdm\n",
      "/home/byuan48/anaconda3/envs/MIA/lib/python3.9/site-packages/transformers/utils/hub.py:127: FutureWarning: Using `TRANSFORMERS_CACHE` is deprecated and will be removed in v5 of Transformers. Use `HF_HOME` instead.\n",
      "  warnings.warn(\n"
     ]
    }
   ],
   "source": [
    "import argparse\n",
    "from transformers import AutoTokenizer, AutoModelForCausalLM\n",
    "import torch\n",
    "import numpy as np\n",
    "from datasets import load_dataset\n",
    "import matplotlib.pyplot as plt\n",
    "from sklearn.metrics import roc_auc_score\n",
    "import perturbation\n",
    "from datasets import load_dataset\n",
    "import utils"
   ]
  },
  {
   "cell_type": "code",
   "execution_count": 2,
   "metadata": {},
   "outputs": [
    {
     "name": "stderr",
     "output_type": "stream",
     "text": [
      "You are using the default legacy behaviour of the <class 'transformers.models.llama.tokenization_llama_fast.LlamaTokenizerFast'>. This is expected, and simply means that the `legacy` (previous) behavior will be used so nothing changes for you. If you want to use the new behaviour, set `legacy=False`. This should only be set if you understand what it means, and thoroughly read the reason why this was added as explained in https://github.com/huggingface/transformers/pull/24565 - if you loaded a llama tokenizer from a GGUF file you can ignore this message.\n",
      "Downloading shards: 100%|██████████| 2/2 [00:00<00:00, 21.53it/s]\n",
      "Loading checkpoint shards: 100%|██████████| 2/2 [00:43<00:00, 21.53s/it]\n"
     ]
    }
   ],
   "source": [
    "tokenizer = AutoTokenizer.from_pretrained(\"huggyllama/llama-7b\")\n",
    "model = AutoModelForCausalLM.from_pretrained(\"huggyllama/llama-7b\", device_map='auto', torch_dtype=torch.float16)\n",
    "model.eval()\n",
    "first_param_device = next(model.parameters()).device\n",
    "\n",
    "LENGTH = 32\n",
    "dataset = load_dataset(\"swj0419/WikiMIA\", split=f\"WikiMIA_length{LENGTH}\")"
   ]
  },
  {
   "cell_type": "code",
   "execution_count": 3,
   "metadata": {},
   "outputs": [
    {
     "name": "stdout",
     "output_type": "stream",
     "text": [
      "Hurricane Ana was the second tropical cyclone in 2014 to threaten the U.S. state of Hawaii with a direct hit, after Iselle in August. The twenty-first named storm and fifteenth hurricane of\n",
      "contamination\n",
      "['second tropical cyclone', 'first named storm', 'hurricane ana', 'fifteenth hurricane', 'direct hit', 'u', 'twenty', 'threaten', 'state', 'iselle', 'hawaii', 'august', '2014']\n",
      "[1. 1. 0. 0. 1. 1. 1. 0. 1. 0. 1. 0. 1. 1. 0. 1. 0. 0. 1. 1. 0. 1. 0. 1.\n",
      " 0. 1. 1. 1. 0. 1. 1. 0.]\n",
      "['hurricane', 'ana', 'was', 'the', 'second', 'tropical', 'cyclone', 'in', '2014', 'to', 'threaten', 'the', 'us', 'state', 'of', 'hawaii', 'with', 'a', 'direct', 'hit', 'after', 'iselle', 'in', 'august', 'the', 'twentyfirst', 'named', 'storm', 'and', 'fifteenth', 'hurricane', 'of']\n"
     ]
    },
    {
     "data": {
      "text/plain": [
       "32"
      ]
     },
     "execution_count": 3,
     "metadata": {},
     "output_type": "execute_result"
    }
   ],
   "source": [
    "from rake_nltk import Rake\n",
    "import re\n",
    "\n",
    "d = dataset['input'][1]\n",
    "print(d)\n",
    "if dataset['label'][1]:\n",
    "    print(\"contamination\")\n",
    "else:\n",
    "    print('no contamination')\n",
    "\n",
    "r = Rake()\n",
    "r.extract_keywords_from_text(d)\n",
    "\n",
    "r.get_ranked_phrases_with_scores()\n",
    "keywords = r.get_ranked_phrases()\n",
    "print(keywords)\n",
    "print((utils.find_word_positions(d,keywords)))\n",
    "\n",
    "sentence_without_punctuation = re.sub(r'[^\\w\\s]', '', d)\n",
    "print(sentence_without_punctuation.lower().split())\n",
    "len(sentence_without_punctuation.lower().split())\n",
    "\n",
    "\n",
    "\n"
   ]
  },
  {
   "cell_type": "code",
   "execution_count": 5,
   "metadata": {},
   "outputs": [
    {
     "name": "stdout",
     "output_type": "stream",
     "text": [
      "{'input_ids': [1, 6189, 6509, 338, 263, 1158, 310, 848, 7418, 393, 3345, 1078, 16114, 936, 1904, 5214, 29889], 'attention_mask': [1, 1, 1, 1, 1, 1, 1, 1, 1, 1, 1, 1, 1, 1, 1, 1, 1], 'offset_mapping': [(0, 0), (0, 7), (7, 16), (16, 19), (19, 21), (21, 28), (28, 31), (31, 36), (36, 45), (45, 50), (50, 56), (56, 60), (60, 67), (67, 71), (71, 77), (77, 86), (86, 87)]}\n",
      "[[0, 1, 2], [8], [11]]\n"
     ]
    }
   ],
   "source": [
    "\n",
    "def find_token_indices(sentence, keywords, tokenizer):\n",
    "    # Tokenize the sentence using Hugging Face tokenizer\n",
    "    tokens = tokenizer.tokenize(sentence)\n",
    "    \n",
    "    # Get the offsets (starting index of each token) in the original sentence\n",
    "    encoded = tokenizer(sentence, return_offsets_mapping=True)\n",
    "    offset_mapping = encoded['offset_mapping']\n",
    "    print(encoded)\n",
    "    print(tokens)\n",
    "    token_indices = []\n",
    "    \n",
    "    # For each keyword, find the corresponding token indices\n",
    "    for keyword in keywords:\n",
    "        keyword_start = sentence.lower().find(keyword.lower())  # Find the start index of the keyword\n",
    "        keyword_end = keyword_start + len(keyword)  # Find the end index of the keyword\n",
    "\n",
    "        # Find the token indices whose offsets fall within the keyword's range\n",
    "        indices = [\n",
    "            i for i, (start, end) in enumerate(offset_mapping) \n",
    "            if start >= keyword_start and end <= keyword_end\n",
    "        ]\n",
    "        \n",
    "        token_indices.append(indices)\n",
    "    \n",
    "    return token_indices\n",
    "\n",
    "# Example usage:\n",
    "\n",
    "sentence = \"Machine learning is a method of data analysis that automates analytical model building.\"\n",
    "keywords = [\"machine learning\", \"data analysis\", \"automates\"]\n",
    "indices = find_token_indices(sentence, keywords, tokenizer)\n",
    "print(indices)\n"
   ]
  },
  {
   "cell_type": "code",
   "execution_count": 9,
   "metadata": {},
   "outputs": [
    {
     "ename": "AttributeError",
     "evalue": "'list' object has no attribute 'tokens'",
     "output_type": "error",
     "traceback": [
      "\u001b[0;31m---------------------------------------------------------------------------\u001b[0m",
      "\u001b[0;31mAttributeError\u001b[0m                            Traceback (most recent call last)",
      "Input \u001b[0;32mIn [9]\u001b[0m, in \u001b[0;36m<cell line: 22>\u001b[0;34m()\u001b[0m\n\u001b[1;32m     20\u001b[0m \u001b[38;5;66;03m# Find important tokens\u001b[39;00m\n\u001b[1;32m     21\u001b[0m important_tokens \u001b[38;5;241m=\u001b[39m []\n\u001b[0;32m---> 22\u001b[0m char_to_token_map \u001b[38;5;241m=\u001b[39m \u001b[43mchar_to_token\u001b[49m\u001b[43m(\u001b[49m\u001b[43msentence\u001b[49m\u001b[43m,\u001b[49m\u001b[43m \u001b[49m\u001b[43mtokenizer\u001b[49m\u001b[43m)\u001b[49m\n\u001b[1;32m     23\u001b[0m \u001b[38;5;28;01mfor\u001b[39;00m char_pos \u001b[38;5;129;01min\u001b[39;00m keyword_positions:\n\u001b[1;32m     24\u001b[0m     \u001b[38;5;28;01mif\u001b[39;00m char_pos \u001b[38;5;241m<\u001b[39m \u001b[38;5;28mlen\u001b[39m(char_to_token_map):\n",
      "Input \u001b[0;32mIn [9]\u001b[0m, in \u001b[0;36mchar_to_token\u001b[0;34m(sentence, tokenizer)\u001b[0m\n\u001b[1;32m     13\u001b[0m char_to_token_map \u001b[38;5;241m=\u001b[39m []\n\u001b[1;32m     14\u001b[0m offset \u001b[38;5;241m=\u001b[39m \u001b[38;5;241m0\u001b[39m\n\u001b[0;32m---> 15\u001b[0m \u001b[38;5;28;01mfor\u001b[39;00m token \u001b[38;5;129;01min\u001b[39;00m \u001b[43mtokenizer\u001b[49m\u001b[38;5;241;43m.\u001b[39;49m\u001b[43mencode\u001b[49m\u001b[43m(\u001b[49m\u001b[43msentence\u001b[49m\u001b[43m)\u001b[49m\u001b[38;5;241;43m.\u001b[39;49m\u001b[43mtokens\u001b[49m:\n\u001b[1;32m     16\u001b[0m     char_to_token_map\u001b[38;5;241m.\u001b[39mextend([\u001b[38;5;28mlen\u001b[39m(char_to_token_map)] \u001b[38;5;241m*\u001b[39m \u001b[38;5;28mlen\u001b[39m(token))\n\u001b[1;32m     17\u001b[0m     offset \u001b[38;5;241m+\u001b[39m\u001b[38;5;241m=\u001b[39m \u001b[38;5;28mlen\u001b[39m(token)\n",
      "\u001b[0;31mAttributeError\u001b[0m: 'list' object has no attribute 'tokens'"
     ]
    }
   ],
   "source": [
    "from transformers import LlamaTokenizerFast\n",
    "\n",
    "# Sentence and keyword positions\n",
    "sentence = \"This is a sample sentence with keywords.\"\n",
    "keyword_positions = [5, 6, 7, 15, 16]  # Indices of \"a\", \"sample\", and \"keywords\"\n",
    "\n",
    "# Tokenize the sentence\n",
    "tokenizer = LlamaTokenizerFast.from_pretrained('huggyllama/llama-7b')\n",
    "tokens = tokenizer.encode(sentence)\n",
    "\n",
    "# Custom function to map character positions to token indices\n",
    "def char_to_token(sentence, tokenizer):\n",
    "    char_to_token_map = []\n",
    "    offset = 0\n",
    "    for token in tokenizer.encode(sentence).tokens:\n",
    "        char_to_token_map.extend([len(char_to_token_map)] * len(token))\n",
    "        offset += len(token)\n",
    "    return char_to_token_map\n",
    "\n",
    "# Find important tokens\n",
    "important_tokens = []\n",
    "char_to_token_map = char_to_token(sentence, tokenizer)\n",
    "for char_pos in keyword_positions:\n",
    "    if char_pos < len(char_to_token_map):\n",
    "        token_idx = char_to_token_map[char_pos]\n",
    "        important_tokens.append(tokens[token_idx])\n",
    "\n",
    "print(\"Important token IDs:\", important_tokens)"
   ]
  },
  {
   "cell_type": "code",
   "execution_count": null,
   "metadata": {},
   "outputs": [],
   "source": [
    "d = dataset['input'][2]\n",
    "re = d.split()[0].lower\n",
    "' '.join(d.split()[0:2])\n",
    "print(d)\n",
    "if dataset['label'][2]:\n",
    "    print(\"contamination\")\n",
    "else:\n",
    "    print('no contamination')\n",
    "input_ids = tokenizer.encode(d, return_tensors=\"pt\")\n",
    "input_ids = input_ids.to(model.device)\n",
    "print(input_ids)\n",
    "split_words = tokenizer.convert_ids_to_tokens(input_ids[0])\n",
    "print(split_words)\n",
    "Entropy = utils.entropy(input_ids, model).cpu().numpy()\n",
    "plt.figure(figsize=(25, 10))  # Optional: Adjusts the figure size\n",
    "plt.bar(split_words, Entropy, color='skyblue')  # Creates a bar plot\n",
    "plt.xticks(rotation=45)\n",
    "plt.show()\n"
   ]
  },
  {
   "cell_type": "code",
   "execution_count": null,
   "metadata": {},
   "outputs": [],
   "source": [
    "d = dataset['input'][1]\n",
    "re = d.split()[0].lower\n",
    "' '.join(d.split()[0:2])\n",
    "print(d)\n",
    "if dataset['label'][1]:\n",
    "    print(\"contamination\")\n",
    "else:\n",
    "    print('no contamination')\n",
    "input_ids = tokenizer.encode(d, return_tensors=\"pt\")\n",
    "input_ids = input_ids.to(model.device)\n",
    "print(input_ids)\n",
    "split_words = tokenizer.convert_ids_to_tokens(input_ids[0])\n",
    "print(split_words)\n",
    "Entropy = utils.entropy(input_ids, model).cpu().numpy()\n",
    "plt.figure(figsize=(25, 10))  # Optional: Adjusts the figure size\n",
    "plt.bar(split_words, Entropy, color='skyblue')  # Creates a bar plot\n",
    "plt.xticks(rotation=45)\n",
    "plt.show()"
   ]
  },
  {
   "cell_type": "code",
   "execution_count": null,
   "metadata": {},
   "outputs": [],
   "source": [
    "d = dataset['input'][10]\n",
    "re = d.split()[0].lower\n",
    "' '.join(d.split()[0:2])\n",
    "print(d)\n",
    "if dataset['label'][10]:\n",
    "    print(\"contamination\")\n",
    "else:\n",
    "    print('no contamination')\n",
    "input_ids = tokenizer.encode(d, return_tensors=\"pt\")\n",
    "input_ids = input_ids.to(model.device)\n",
    "print(input_ids)\n",
    "split_words = tokenizer.convert_ids_to_tokens(input_ids[0])\n",
    "print(split_words)\n",
    "Entropy = utils.entropy(input_ids, model).cpu().numpy()\n",
    "plt.figure(figsize=(25, 10))  # Optional: Adjusts the figure size\n",
    "plt.bar(split_words, Entropy, color='skyblue')  # Creates a bar plot\n",
    "plt.xticks(rotation=45)\n",
    "plt.show()"
   ]
  },
  {
   "cell_type": "code",
   "execution_count": 11,
   "metadata": {},
   "outputs": [
    {
     "name": "stdout",
     "output_type": "stream",
     "text": [
      "Processed 0/776 texts.\n",
      "Processed 100/776 texts.\n",
      "Processed 200/776 texts.\n",
      "Processed 300/776 texts.\n",
      "Processed 400/776 texts.\n",
      "Processed 500/776 texts.\n",
      "Processed 600/776 texts.\n",
      "Processed 700/776 texts.\n"
     ]
    }
   ],
   "source": [
    "score_tokens_no = np.zeros(len(tokenizer.vocab))\n",
    "score_tokens_yes = np.zeros(len(tokenizer.vocab))\n",
    "times_tokens_no = np.zeros(len(tokenizer.vocab))\n",
    "times_tokens_yes = np.zeros(len(tokenizer.vocab))\n",
    "\n",
    "for idx, text in enumerate(dataset['input'], 0):\n",
    "    input_ids = tokenizer.encode(text, return_tensors=\"pt\")\n",
    "    input_ids = input_ids.to(model.device)\n",
    "    if idx % 100 == 0:\n",
    "        print(f\"Processed {idx}/{len(dataset['input'])} texts.\")\n",
    "    Entropy = utils.entropy(input_ids, model).cpu().numpy()\n",
    "    input_ids = input_ids.cpu().numpy()\n",
    "    if dataset['label'][idx] == 0:\n",
    "        score_tokens_no[input_ids[0]] += Entropy\n",
    "        times_tokens_no[input_ids[0]] += 1\n",
    "    else:\n",
    "        score_tokens_yes[input_ids[0]] += Entropy\n",
    "        times_tokens_yes[input_ids[0]] += 1"
   ]
  },
  {
   "cell_type": "code",
   "execution_count": 12,
   "metadata": {},
   "outputs": [
    {
     "name": "stdout",
     "output_type": "stream",
     "text": [
      "[ 4538  9338   628 19811 18210  1682 12625  2765 10513 26844  1988  9272\n",
      "  4250  2858   593  6451  9133  1579 16540 10901]\n",
      "[4.73128384e-05 6.22884545e-05 9.21929168e-05 1.07957734e-04\n",
      " 1.31536508e-04 1.47181563e-04 1.99519112e-04 2.14542102e-04\n",
      " 2.24840667e-04 2.35201616e-04 2.45629577e-04 2.49999634e-04\n",
      " 2.50789599e-04 2.58611079e-04 2.78264226e-04 2.96727783e-04\n",
      " 3.06991511e-04 3.08215880e-04 3.20892461e-04 3.38218233e-04]\n"
     ]
    },
    {
     "data": {
      "image/png": "[encoded data removed]",
      "text/plain": [
       "<Figure size 720x720 with 1 Axes>"
      ]
     },
     "metadata": {
      "needs_background": "light"
     },
     "output_type": "display_data"
    },
    {
     "name": "stdout",
     "output_type": "stream",
     "text": [
      "[28224  8598  9338   629  5342 26028   229  4834 21265 13731  2902 10139\n",
      " 20279  1436 17818  2156   735  3938 13377  6776]\n",
      "[4.13404559e-05 6.93704933e-05 1.32550573e-04 1.83770680e-04\n",
      " 2.35832442e-04 2.60203495e-04 2.69385549e-04 3.11491312e-04\n",
      " 3.19553103e-04 3.31895310e-04 3.35659061e-04 3.51807510e-04\n",
      " 3.62846360e-04 4.04558086e-04 4.25669714e-04 4.84978256e-04\n",
      " 4.88672405e-04 5.55679202e-04 5.59613458e-04 5.64859190e-04]\n"
     ]
    },
    {
     "data": {
      "image/png": "[encoded data removed]",
      "text/plain": [
       "<Figure size 720x720 with 1 Axes>"
      ]
     },
     "metadata": {
      "needs_background": "light"
     },
     "output_type": "display_data"
    }
   ],
   "source": [
    "ave_token_yes = np.divide(score_tokens_yes, times_tokens_yes, out=np.zeros_like(score_tokens_yes, dtype=float), where=times_tokens_yes!=0)\n",
    "ave_token_yes[ave_token_yes == 0] = float('inf')\n",
    "index = np.argsort(ave_token_yes)[:20]\n",
    "print(index)\n",
    "ave = ave_token_yes[index]\n",
    "print(ave)\n",
    "words = tokenizer.convert_ids_to_tokens(index)\n",
    "plt.figure(figsize=(10, 10))  # Optional: Adjusts the figure size\n",
    "plt.bar(words, ave, color='skyblue')  # Creates a bar plot\n",
    "plt.xticks(rotation=45)\n",
    "plt.title('contamination')\n",
    "plt.show()\n",
    "\n",
    "ave_token_no = np.divide(score_tokens_no, times_tokens_no, out=np.zeros_like(score_tokens_no, dtype=float), where=times_tokens_no!=0)\n",
    "ave_token_no[ave_token_no == 0] = float('inf')\n",
    "index = np.argsort(ave_token_no)[:20]\n",
    "print(index)\n",
    "ave = ave_token_no[index]\n",
    "print(ave)\n",
    "words = tokenizer.convert_ids_to_tokens(index)\n",
    "plt.figure(figsize=(10, 10))  # Optional: Adjusts the figure size\n",
    "plt.bar(words, ave, color='skyblue')  # Creates a bar plot\n",
    "plt.xticks(rotation=45)\n",
    "plt.title('contamination')\n",
    "plt.show()"
   ]
  },
  {
   "cell_type": "code",
   "execution_count": 9,
   "metadata": {},
   "outputs": [
    {
     "name": "stdout",
     "output_type": "stream",
     "text": [
      "Processed 0/776 texts.\n",
      "Processed 100/776 texts.\n",
      "Processed 200/776 texts.\n",
      "Processed 300/776 texts.\n",
      "Processed 400/776 texts.\n",
      "Processed 500/776 texts.\n",
      "Processed 600/776 texts.\n",
      "Processed 700/776 texts.\n"
     ]
    }
   ],
   "source": [
    "all_tokens_yes = np.zeros([len(tokenizer.vocab)])\n",
    "fre_tokens_yes = np.zeros([len(tokenizer.vocab)])\n",
    "all_tokens_no = np.zeros([len(tokenizer.vocab)])\n",
    "fre_tokens_no = np.zeros([len(tokenizer.vocab)])\n",
    "for idx, text in enumerate(dataset['input'], 0):\n",
    "    input_ids = tokenizer.encode(text, return_tensors=\"pt\")\n",
    "    input_ids = input_ids.to(model.device)\n",
    "    if idx % 100 == 0:\n",
    "        print(f\"Processed {idx}/{len(dataset['input'])} texts.\")\n",
    "    Entropy = utils.entropy(input_ids, model).cpu().numpy()\n",
    "    Entropy[0] = float('inf') # remove the first <s> token, check if needed for other models\n",
    "    index_min = input_ids[0][np.argmin(Entropy)].cpu()\n",
    "    index = input_ids[0].cpu()\n",
    "    if dataset['label'][idx] == 0:\n",
    "        all_tokens_no[index_min]  = all_tokens_no[index_min]+1\n",
    "        fre_tokens_no[index] = fre_tokens_no[index] + 1\n",
    "    else:\n",
    "        all_tokens_yes[index_min]  = all_tokens_yes[index_min]+1\n",
    "        fre_tokens_yes[index] = fre_tokens_yes[index] + 1\n"
   ]
  },
  {
   "cell_type": "code",
   "execution_count": null,
   "metadata": {},
   "outputs": [],
   "source": [
    "# small counts\n",
    "\n",
    "# all_tokens_no[all_tokens_no == 0] = 1000\n",
    "# index = np.argsort(all_tokens_no)[:20]\n",
    "# print(index)\n",
    "# counts = all_tokens_no[index]\n",
    "# print(counts)\n",
    "# words = tokenizer.convert_ids_to_tokens(index)\n",
    "# plt.figure(figsize=(20, 10))  # Optional: Adjusts the figure size\n",
    "# plt.bar(words, counts, color='skyblue')  # Creates a bar plot\n",
    "# plt.xticks(rotation=45)\n",
    "# plt.show()\n"
   ]
  },
  {
   "cell_type": "code",
   "execution_count": 10,
   "metadata": {},
   "outputs": [
    {
     "name": "stdout",
     "output_type": "stream",
     "text": [
      "387.0\n",
      "[  383   845   399  8437 27135   369   443   303  2291  9266 29899   350\n",
      " 29915 27489  3792 29896   279 29871 29900 29906]\n",
      "[ 2.  2.  2.  2.  2.  2.  2.  3.  3.  3.  3.  3.  3.  3.  3.  4.  5.  8.\n",
      " 23. 78.]\n"
     ]
    },
    {
     "data": {
      "image/png": "[encoded data removed]",
      "text/plain": [
       "<Figure size 720x720 with 1 Axes>"
      ]
     },
     "metadata": {
      "needs_background": "light"
     },
     "output_type": "display_data"
    },
    {
     "name": "stdout",
     "output_type": "stream",
     "text": [
      "389.0\n",
      "[29920  5094   279   305  2538 29915   360  3673   283 29899  8383  9266\n",
      " 29881 22895  5528   380 24613 29871 29896 29906]\n",
      "[  2.   2.   2.   2.   2.   2.   2.   3.   3.   3.   3.   3.   3.   4.\n",
      "   4.   5.   7.   7.  10. 104.]\n"
     ]
    },
    {
     "data": {
      "image/png": "[encoded data removed]",
      "text/plain": [
       "<Figure size 720x720 with 1 Axes>"
      ]
     },
     "metadata": {
      "needs_background": "light"
     },
     "output_type": "display_data"
    }
   ],
   "source": [
    "# large counts\n",
    "index = np.argsort(all_tokens_yes)[-20:]\n",
    "print(sum(all_tokens_yes))\n",
    "print(index)\n",
    "counts = all_tokens_yes[index]\n",
    "print(counts)\n",
    "words = tokenizer.convert_ids_to_tokens(index)\n",
    "plt.figure(figsize=(10, 10))  # Optional: Adjusts the figure size\n",
    "plt.bar(words, counts, color='skyblue')  # Creates a bar plot\n",
    "plt.xticks(rotation=45)\n",
    "plt.title('contamination')\n",
    "plt.show()\n",
    "\n",
    "# large counts\n",
    "index = np.argsort(all_tokens_no)[-20:]\n",
    "print(sum(all_tokens_no))\n",
    "print(index)\n",
    "counts = all_tokens_no[index]\n",
    "print(counts)\n",
    "words = tokenizer.convert_ids_to_tokens(index)\n",
    "plt.figure(figsize=(10, 10))  # Optional: Adjusts the figure size\n",
    "plt.bar(words, counts, color='skyblue')  # Creates a bar plot\n",
    "plt.xticks(rotation=45)\n",
    "plt.title('no contamination')\n",
    "plt.show()"
   ]
  },
  {
   "cell_type": "code",
   "execution_count": null,
   "metadata": {},
   "outputs": [],
   "source": [
    "# large counts\n",
    "percent_yes = np.divide(all_tokens_yes, fre_tokens_yes, out=np.zeros_like(all_tokens_yes, dtype=float), where=fre_tokens_yes!=0)\n",
    "index = np.argsort(percent_yes)[-20:]\n",
    "print(sum(percent_yes))\n",
    "print(index)\n",
    "percent = percent_yes[index]\n",
    "print(percent)\n",
    "words = tokenizer.convert_ids_to_tokens(index)\n",
    "plt.figure(figsize=(10, 10))  # Optional: Adjusts the figure size\n",
    "plt.bar(words, percent, color='skyblue')  # Creates a bar plot\n",
    "plt.xticks(rotation=45)\n",
    "plt.title('contamination')\n",
    "plt.show()\n",
    "\n",
    "# large counts\n",
    "percent_no = np.divide(all_tokens_no, fre_tokens_no, out=np.zeros_like(all_tokens_no, dtype=float), where=fre_tokens_no!=0)\n",
    "index = np.argsort(percent_no)[-20:]\n",
    "print(sum(percent_no))\n",
    "print(index)\n",
    "percent = percent_no[index]\n",
    "print(percent)\n",
    "words = tokenizer.convert_ids_to_tokens(index)\n",
    "plt.figure(figsize=(10, 10))  # Optional: Adjusts the figure size\n",
    "plt.bar(words, percent, color='skyblue')  # Creates a bar plot\n",
    "plt.xticks(rotation=45)\n",
    "plt.title('contamination')\n",
    "plt.show()"
   ]
  },
  {
   "cell_type": "code",
   "execution_count": null,
   "metadata": {},
   "outputs": [],
   "source": [
    "tokenizer.convert_ids_to_tokens([29871])"
   ]
  },
  {
   "cell_type": "code",
   "execution_count": null,
   "metadata": {},
   "outputs": [],
   "source": [
    "# unit test for perturb_token_keywords\n",
    "from rake_nltk import Rake\n",
    "\n",
    "r = Rake()\n",
    "r.extract_keywords_from_text(dataset['input'][1])\n",
    "\n",
    "r.get_ranked_phrases_with_scores()\n",
    "r.get_ranked_phrases()\n",
    "\n",
    "from pertubation import perturb_token_keywords\n",
    "print(len(perturb_token_keywords(dataset['input'][1], 1)))\n",
    "print(len(dataset['input'][1]))\n",
    "print(perturb_token_keywords(dataset['input'][1], 1))\n",
    "print(dataset['input'][1])"
   ]
  }
 ],
 "metadata": {
  "kernelspec": {
   "display_name": "base",
   "language": "python",
   "name": "python3"
  },
  "language_info": {
   "codemirror_mode": {
    "name": "ipython",
    "version": 3
   },
   "file_extension": ".py",
   "mimetype": "text/x-python",
   "name": "python",
   "nbconvert_exporter": "python",
   "pygments_lexer": "ipython3",
   "version": "3.9.19"
  }
 },
 "nbformat": 4,
 "nbformat_minor": 2
}
